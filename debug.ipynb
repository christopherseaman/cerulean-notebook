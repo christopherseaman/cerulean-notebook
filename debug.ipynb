{
 "cells": [
  {
   "cell_type": "code",
   "execution_count": 1,
   "metadata": {},
   "outputs": [
    {
     "data": {
      "text/html": [
       "<div>\n",
       "<style scoped>\n",
       "    .dataframe tbody tr th:only-of-type {\n",
       "        vertical-align: middle;\n",
       "    }\n",
       "\n",
       "    .dataframe tbody tr th {\n",
       "        vertical-align: top;\n",
       "    }\n",
       "\n",
       "    .dataframe thead th {\n",
       "        text-align: right;\n",
       "    }\n",
       "</style>\n",
       "<table border=\"1\" class=\"dataframe\">\n",
       "  <thead>\n",
       "    <tr style=\"text-align: right;\">\n",
       "      <th></th>\n",
       "      <th>seq</th>\n",
       "      <th>name</th>\n",
       "      <th>file</th>\n",
       "    </tr>\n",
       "  </thead>\n",
       "  <tbody>\n",
       "    <tr>\n",
       "      <th>0</th>\n",
       "      <td>4</td>\n",
       "      <td>cerulean</td>\n",
       "      <td>/Users/christopher/cerulean-data/cerulean.duckdb</td>\n",
       "    </tr>\n",
       "  </tbody>\n",
       "</table>\n",
       "</div>"
      ],
      "text/plain": [
       "   seq      name                                              file\n",
       "0    4  cerulean  /Users/christopher/cerulean-data/cerulean.duckdb"
      ]
     },
     "metadata": {},
     "output_type": "display_data"
    }
   ],
   "source": [
    "import traceback\n",
    "from dotenv import load_dotenv\n",
    "import pandas as pd\n",
    "import duckdb\n",
    "import pyarrow.parquet as pq\n",
    "# from azure.ai.textanalytics import TextAnalyticsClient, HealthcareEntityRelation\n",
    "# from azure.core.credentials import AzureKeyCredential\n",
    "\n",
    "# Set up environment variables\n",
    "load_dotenv()\n",
    "\n",
    "# Set flags\n",
    "DEBUG = False\n",
    "\n",
    "data_dir = %env DATA_DIR\n",
    "database_url = %env DATABASE_URL\n",
    "azure_key = %env AZURE_KEY\n",
    "azure_endpoint = %env AZURE_ENDPOINT\n",
    "\n",
    "# Load SQL extension\n",
    "%load_ext sql\n",
    "%config SqlMagic.autopandas = True\n",
    "%config SqlMagic.feedback = False\n",
    "%config SqlMagic.displaycon = False\n",
    "\n",
    "\n",
    "# DuckDB loaded using $DATABASE_URL from `.env`\n",
    "con = duckdb.connect(f'{data_dir}/cerulean.duckdb')\n",
    "\n",
    "%sql PRAGMA enable_progress_bar=true;\n",
    "%sql db_list << PRAGMA database_list;\n",
    "display(db_list)\n",
    "\n",
    "# Load data from parquet\n",
    "# Load schema metadata from ${data_dir}physionet_schema.csv\n",
    "tables = pd.read_csv(f'{data_dir}/physionet_schema.csv', delimiter='\\t', \n",
    "                usecols=['schema', 'table']).drop_duplicates().reset_index(drop=True)\n",
    "\n",
    "# Filter to mimiciv_note schema for now\n",
    "tables = tables[tables['schema'] == 'mimiciv_note']"
   ]
  },
  {
   "cell_type": "code",
   "execution_count": 2,
   "metadata": {},
   "outputs": [
    {
     "name": "stdout",
     "output_type": "stream",
     "text": [
      "1 of 3: Reading mimiciv_note.radiology_detail from parquet\n",
      "2 of 3: Loading mimiciv_note.radiology_detail into duckdb\n",
      "3 of 3: Loaded mimiciv_note.radiology_detail into duckdb\n",
      "1 of 3: Reading mimiciv_note.discharge_detail from parquet\n",
      "2 of 3: Loading mimiciv_note.discharge_detail into duckdb\n",
      "3 of 3: Loaded mimiciv_note.discharge_detail into duckdb\n",
      "1 of 3: Reading mimiciv_note.discharge from parquet\n",
      "2 of 3: Loading mimiciv_note.discharge into duckdb\n",
      "3 of 3: Loaded mimiciv_note.discharge into duckdb\n",
      "1 of 3: Reading mimiciv_note.radiology from parquet\n",
      "2 of 3: Loading mimiciv_note.radiology into duckdb\n"
     ]
    },
    {
     "ename": "",
     "evalue": "",
     "output_type": "error",
     "traceback": [
      "\u001b[1;31mCanceled future for execute_request message before replies were done"
     ]
    },
    {
     "ename": "",
     "evalue": "",
     "output_type": "error",
     "traceback": [
      "\u001b[1;31mThe Kernel crashed while executing code in the the current cell or a previous cell. Please review the code in the cell(s) to identify a possible cause of the failure. Click <a href='https://aka.ms/vscodeJupyterKernelCrash'>here</a> for more info. View Jupyter <a href='command:jupyter.viewOutput'>log</a> for further details."
     ]
    }
   ],
   "source": [
    "# Load data from parquet using pandas\n",
    "for (schema, table) in tables.values:\n",
    "    try:\n",
    "        print(f'1 of 3: Reading {schema}.{table} from parquet')\n",
    "        df = pd.read_parquet(f'{data_dir}/parquet/{schema}/{table}.parquet')\n",
    "        # table_data = pq.read_table(f'{data_dir}/parquet/{schema}/{table}.parquet')\n",
    "        # df = table_data.to_pandas()\n",
    "        # load df into duckdb\n",
    "        %sql DROP TABLE IF EXISTS {{schema}}.{{table}}\n",
    "        %sql CREATE SCHEMA IF NOT EXISTS {{schema}}\n",
    "        # con.execute(f\"DROP TABLE IF EXISTS {schema}.{table}\")\n",
    "        # con.execute(f\"CREATE SCHEMA IF NOT EXISTS {schema}\")\n",
    "        print(f'2 of 3: Loading {schema}.{table} into duckdb')\n",
    "        %sql CREATE TABLE {{schema}}.{{table}} AS SELECT * FROM df\n",
    "        # con.execute(f\"CREATE TABLE {schema}.{table} AS SELECT * FROM table_data\")\n",
    "        # con.commit()\n",
    "        print(f'3 of 3: Loaded {schema}.{table} into duckdb')\n",
    "    except Exception as e:\n",
    "        print(f\"Error while loading {schema}.{table}\")\n",
    "        traceback.print_exc()\n"
   ]
  },
  {
   "cell_type": "code",
   "execution_count": null,
   "metadata": {},
   "outputs": [],
   "source": []
  }
 ],
 "metadata": {
  "kernelspec": {
   "display_name": ".venv",
   "language": "python",
   "name": "python3"
  },
  "language_info": {
   "codemirror_mode": {
    "name": "ipython",
    "version": 3
   },
   "file_extension": ".py",
   "mimetype": "text/x-python",
   "name": "python",
   "nbconvert_exporter": "python",
   "pygments_lexer": "ipython3",
   "version": "3.11.2"
  },
  "orig_nbformat": 4
 },
 "nbformat": 4,
 "nbformat_minor": 2
}
