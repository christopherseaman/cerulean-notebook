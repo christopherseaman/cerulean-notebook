{
 "cells": [
  {
   "cell_type": "code",
   "execution_count": 1,
   "metadata": {},
   "outputs": [],
   "source": [
    "# Pulling data for manual analysis\n",
    "\n",
    "# Import required packages\n",
    "import duckdb\n",
    "import pandas as pd\n",
    "\n",
    "# Load SQL extension\n",
    "%load_ext sql\n",
    "%config SqlMagic.autopandas = True\n",
    "%config SqlMagic.feedback = False\n",
    "%config SqlMagic.displaycon = False\n",
    "\n",
    "# Connect to DuckDB\n",
    "%sql duckdb:///cerulean.duckdb"
   ]
  },
  {
   "cell_type": "code",
   "execution_count": 2,
   "metadata": {},
   "outputs": [],
   "source": [
    "%%sql subjects <<\n",
    "SELECT DISTINCT(subject_id) as subject_id\n",
    "  FROM mimiciv_note.discharge\n",
    " WHERE subject_id \n",
    "    IN (SELECT subject_id FROM mimiciv_note.radiology)\n",
    " USING SAMPLE 10 "
   ]
  },
  {
   "cell_type": "code",
   "execution_count": 3,
   "metadata": {},
   "outputs": [],
   "source": [
    "%%sql sample <<\n",
    "SELECT subject_id\n",
    "     , 'discharge' as source\n",
    "     , charttime\n",
    "     , note_seq\n",
    "     , note_type\n",
    "     , text\n",
    "  FROM mimiciv_note.discharge\n",
    " WHERE subject_id IN (SELECT subject_id FROM subjects)\n",
    " UNION ALL\n",
    "SELECT subject_id\n",
    "     , 'radiology' as source\n",
    "     , charttime\n",
    "     , note_seq\n",
    "     , note_type\n",
    "     , text\n",
    "  FROM mimiciv_note.radiology\n",
    " WHERE subject_id IN (SELECT subject_id FROM subjects)"
   ]
  },
  {
   "cell_type": "code",
   "execution_count": null,
   "metadata": {},
   "outputs": [],
   "source": [
    "sample.sort_values(by=['subject_id', 'charttime']).to_csv('out/manual_data.csv', index=False)"
   ]
  }
 ],
 "metadata": {
  "kernelspec": {
   "display_name": "cerulean-notebook",
   "language": "python",
   "name": "python3"
  },
  "language_info": {
   "codemirror_mode": {
    "name": "ipython",
    "version": 3
   },
   "file_extension": ".py",
   "mimetype": "text/x-python",
   "name": "python",
   "nbconvert_exporter": "python",
   "pygments_lexer": "ipython3",
   "version": "3.10.9"
  },
  "orig_nbformat": 4,
  "vscode": {
   "interpreter": {
    "hash": "311c0f6d3b3d412c56fdf6c19b0e3629226c42cb0e910efa2496f61183626f29"
   }
  }
 },
 "nbformat": 4,
 "nbformat_minor": 2
}
