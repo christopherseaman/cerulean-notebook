{
 "cells": [
  {
   "cell_type": "code",
   "execution_count": null,
   "metadata": {},
   "outputs": [],
   "source": [
    "from dotenv import load_dotenv\n",
    "import pandas as pd\n",
    "from azure.ai.textanalytics import TextAnalyticsClient\n",
    "from azure.core.credentials import AzureKeyCredential\n",
    "\n",
    "# Set up environment variables\n",
    "load_dotenv()\n",
    "\n",
    "# Set flags (currently unused)\n",
    "DEBUG = False\n",
    "\n",
    "data_dir = %env DATA_DIR\n",
    "azure_key = %env AZURE_KEY\n",
    "azure_endpoint = %env AZURE_ENDPOINT\n",
    "\n",
    "# Load SQL extension\n",
    "%load_ext sql\n",
    "%config SqlMagic.autopandas = True\n",
    "%config SqlMagic.feedback = False\n",
    "%config SqlMagic.displaycon = False\n",
    "\n",
    "\n",
    "# Have DuckDB use in-memory storage (comment out to user $DATABASE_URL file)\n",
    "%sql duckdb:///:memory:"
   ]
  },
  {
   "cell_type": "code",
   "execution_count": null,
   "metadata": {},
   "outputs": [],
   "source": [
    "# Load data from parquet\n",
    "\n",
    "# Load schema metadata from ${data_dir}physionet_schema.csv\n",
    "tables = pd.read_csv(f'{data_dir}physionet_schema.csv', delimiter='\\t', usecols=['schema', 'table']).drop_duplicates().reset_index(drop=True)\n",
    "# display(tables)\n",
    "\n",
    "\n",
    "# Load data from parquet\n",
    "for (schema, table) in tables.values:\n",
    "    print(f'Loading {schema}.{table}')\n",
    "    %sql DROP TABLE IF EXISTS {{schema}}.{{table}}\n",
    "    %sql CREATE SCHEMA IF NOT EXISTS {{schema}}\n",
    "    %sql CREATE TABLE {{schema}}.{{table}} AS SELECT * FROM read_parquet('{{data_dir}}parquet/{{schema}}/{{table}}.parquet')"
   ]
  },
  {
   "cell_type": "code",
   "execution_count": null,
   "metadata": {},
   "outputs": [],
   "source": [
    "# Authenticate the client using your key and endpoint\n",
    "def azure_auth_client ():\n",
    "    ta_credential = AzureKeyCredential (azure_key)\n",
    "    text_analytics_client = TextAnalyticsClient (\n",
    "        endpoint=azure_endpoint,\n",
    "        credential=ta_credential)\n",
    "    return text_analytics_client"
   ]
  },
  {
   "cell_type": "code",
   "execution_count": null,
   "metadata": {},
   "outputs": [],
   "source": [
    "\n",
    "azure_client = azure_auth_client()"
   ]
  },
  {
   "cell_type": "code",
   "execution_count": null,
   "metadata": {},
   "outputs": [],
   "source": [
    "def azure_health(client, documents):\n",
    "    poller = client.begin_analyze_healthcare_entities(documents)\n",
    "    result = poller.result()\n",
    "\n",
    "    docs = [doc for doc in result if not doc.is_error]\n",
    "\n",
    "    for idx, doc in enumerate(docs):\n",
    "        for entity in doc.entities:\n",
    "            print(\"Entity: {}\".format(entity.text))\n",
    "            print(\"...Normalized Text: {}\".format(entity.normalized_text))\n",
    "            print(\"...Category: {}\".format(entity.category))\n",
    "            print(\"...Subcategory: {}\".format(entity.subcategory))\n",
    "            print(\"...Offset: {}\".format(entity.offset))\n",
    "            print(\"...Confidence score: {}\".format(entity.confidence_score))\n",
    "        for relation in doc.entity_relations:\n",
    "            print(\"Relation of type: {} has the following roles\".format(relation.relation_type))\n",
    "            for role in relation.roles:\n",
    "                print(\"...Role '{}' with entity '{}'\".format(role.name, role.entity.text))\n",
    "        print(\"------------------------------------------\")"
   ]
  },
  {
   "cell_type": "code",
   "execution_count": null,
   "metadata": {},
   "outputs": [],
   "source": [
    "# Test the function\n",
    "documents = [\n",
    "    \"\"\"\n",
    "    Patient needs to take 50 mg of ibuprofen.\n",
    "    \"\"\"\n",
    "]\n",
    "\n",
    "azure_health(azure_client, documents)"
   ]
  },
  {
   "cell_type": "code",
   "execution_count": null,
   "metadata": {},
   "outputs": [],
   "source": []
  }
 ],
 "metadata": {
  "kernelspec": {
   "display_name": ".venv",
   "language": "python",
   "name": "python3"
  },
  "language_info": {
   "codemirror_mode": {
    "name": "ipython",
    "version": 3
   },
   "file_extension": ".py",
   "mimetype": "text/x-python",
   "name": "python",
   "nbconvert_exporter": "python",
   "pygments_lexer": "ipython3",
   "version": "3.11.2"
  },
  "orig_nbformat": 4
 },
 "nbformat": 4,
 "nbformat_minor": 2
}
