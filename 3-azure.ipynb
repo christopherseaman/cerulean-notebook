{
 "cells": [
  {
   "cell_type": "code",
   "execution_count": 2,
   "metadata": {},
   "outputs": [],
   "source": [
    "from dotenv import load_dotenv\n",
    "from os import getenv\n",
    "from azure.ai.textanalytics import TextAnalyticsClient\n",
    "from azure.core.credentials import AzureKeyCredential\n",
    "\n",
    "# Set up environment variables\n",
    "load_dotenv()\n",
    "data_dir = getenv(\"DATA_DIR\")\n",
    "azure_key = getenv(\"AZURE_KEY\")\n",
    "azure_endpoint = getenv(\"AZURE_ENDPOINT\")"
   ]
  },
  {
   "cell_type": "code",
   "execution_count": 4,
   "metadata": {},
   "outputs": [],
   "source": [
    "# Authenticate the client using your key and endpoint\n",
    "def azure_auth_client ():\n",
    "    ta_credential = AzureKeyCredential (azure_key)\n",
    "    text_analytics_client = TextAnalyticsClient (\n",
    "        endpoint=azure_endpoint,\n",
    "        credential=ta_credential)\n",
    "    return text_analytics_client"
   ]
  },
  {
   "cell_type": "code",
   "execution_count": 5,
   "metadata": {},
   "outputs": [],
   "source": [
    "\n",
    "azure_client = azure_auth_client()"
   ]
  },
  {
   "cell_type": "code",
   "execution_count": 6,
   "metadata": {},
   "outputs": [],
   "source": [
    "def azure_health(client, documents):\n",
    "    poller = client.begin_analyze_healthcare_entities(documents)\n",
    "    result = poller.result()\n",
    "\n",
    "    docs = [doc for doc in result if not doc.is_error]\n",
    "\n",
    "    for idx, doc in enumerate(docs):\n",
    "        for entity in doc.entities:\n",
    "            print(\"Entity: {}\".format(entity.text))\n",
    "            print(\"...Normalized Text: {}\".format(entity.normalized_text))\n",
    "            print(\"...Category: {}\".format(entity.category))\n",
    "            print(\"...Subcategory: {}\".format(entity.subcategory))\n",
    "            print(\"...Offset: {}\".format(entity.offset))\n",
    "            print(\"...Confidence score: {}\".format(entity.confidence_score))\n",
    "        for relation in doc.entity_relations:\n",
    "            print(\"Relation of type: {} has the following roles\".format(relation.relation_type))\n",
    "            for role in relation.roles:\n",
    "                print(\"...Role '{}' with entity '{}'\".format(role.name, role.entity.text))\n",
    "        print(\"------------------------------------------\")"
   ]
  },
  {
   "cell_type": "code",
   "execution_count": 7,
   "metadata": {},
   "outputs": [
    {
     "name": "stdout",
     "output_type": "stream",
     "text": [
      "Entity: 50 mg\n",
      "...Normalized Text: None\n",
      "...Category: Dosage\n",
      "...Subcategory: None\n",
      "...Offset: 27\n",
      "...Confidence score: 1.0\n",
      "Entity: ibuprofen\n",
      "...Normalized Text: ibuprofen\n",
      "...Category: MedicationName\n",
      "...Subcategory: None\n",
      "...Offset: 36\n",
      "...Confidence score: 1.0\n",
      "Relation of type: DosageOfMedication has the following roles\n",
      "...Role 'Dosage' with entity '50 mg'\n",
      "...Role 'Medication' with entity 'ibuprofen'\n",
      "------------------------------------------\n"
     ]
    }
   ],
   "source": [
    "# Test the function\n",
    "documents = [\n",
    "    \"\"\"\n",
    "    Patient needs to take 50 mg of ibuprofen.\n",
    "    \"\"\"\n",
    "]\n",
    "\n",
    "azure_health(azure_client, documents)"
   ]
  },
  {
   "cell_type": "code",
   "execution_count": null,
   "metadata": {},
   "outputs": [],
   "source": []
  }
 ],
 "metadata": {
  "kernelspec": {
   "display_name": "Python 3",
   "language": "python",
   "name": "python3"
  },
  "language_info": {
   "codemirror_mode": {
    "name": "ipython",
    "version": 3
   },
   "file_extension": ".py",
   "mimetype": "text/x-python",
   "name": "python",
   "nbconvert_exporter": "python",
   "pygments_lexer": "ipython3",
   "version": "3.9.16"
  },
  "orig_nbformat": 4
 },
 "nbformat": 4,
 "nbformat_minor": 2
}
