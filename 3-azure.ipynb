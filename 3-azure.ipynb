{
 "cells": [
  {
   "cell_type": "code",
   "execution_count": null,
   "metadata": {},
   "outputs": [],
   "source": [
    "from dotenv import load_dotenv\n",
    "from os import getenv\n",
    "from azure.ai.textanalytics import TextAnalyticsClient\n",
    "from azure.core.credentials import AzureKeyCredential\n",
    "\n",
    "# Set up environment variables\n",
    "load_dotenv()\n",
    "physionet_key = getenv(\"PHYSIONET_KEY\")\n",
    "openai_key = getenv(\"OPENAI_KEY\")\n",
    "azure_key = geten (\"AZURE_KEY\")\n",
    "azure_endpoint = getenv(\"AZURE_ENDPOINT\")"
   ]
  },
  {
   "cell_type": "code",
   "execution_count": null,
   "metadata": {},
   "outputs": [],
   "source": [
    "# Authenticate the client using your key and endpoint\n",
    "def azure_auth_client ():\n",
    "    ta_credential = AzureKeyCredential (azure_key)\n",
    "    text_analytics_client = TextAnalyticsClient (\n",
    "        endpoint=azure_endpoint,\n",
    "        credential=ta_credential)\n",
    "        return text_analytics_client"
   ]
  },
  {
   "cell_type": "code",
   "execution_count": null,
   "metadata": {},
   "outputs": [],
   "source": [
    "\n",
    "azure_client = azure_auth_client()"
   ]
  },
  {
   "cell_type": "code",
   "execution_count": null,
   "metadata": {},
   "outputs": [],
   "source": [
    "def azure_health(client, documents):\n",
    "    poller = client.begin_analyze_healthcare_entities(documents)\n",
    "    result = poller.result()\n",
    "\n",
    "    docs = [doc for doc in result if not doc.is_error]\n",
    "\n",
    "    for idx, doc in enumerate(docs):\n",
    "        for entity in doc.entities:\n",
    "            print(\"Entity: {}\".format(entity.text))\n",
    "            print(\"...Normalized Text: {}\".format(entity.normalized_text))\n",
    "            print(\"...Category: {}\".format(entity.category))\n",
    "            print(\"...Subcategory: {}\".format(entity.subcategory))\n",
    "            print(\"...Offset: {}\".format(entity.offset))\n",
    "            print(\"...Confidence score: {}\".format(entity.confidence_score))\n",
    "        for relation in doc.entity_relations:\n",
    "            print(\"Relation of type: {} has the following roles\".format(relation.relation_type))\n",
    "            for role in relation.roles:\n",
    "                print(\"...Role '{}' with entity '{}'\".format(role.name, role.entity.text))\n",
    "        print(\"------------------------------------------\")"
   ]
  },
  {
   "cell_type": "code",
   "execution_count": null,
   "metadata": {},
   "outputs": [],
   "source": [
    "# Test the function\n",
    "documents = [\n",
    "    \"\"\"\n",
    "    Patient needs to take 50 mg of ibuprofen.\n",
    "    \"\"\"\n",
    "]\n",
    "\n",
    "azure_health(azure_client, documents)"
   ]
  }
 ],
 "metadata": {
  "language_info": {
   "name": "python"
  },
  "orig_nbformat": 4
 },
 "nbformat": 4,
 "nbformat_minor": 2
}
