{
 "cells": [
  {
   "cell_type": "code",
   "execution_count": null,
   "metadata": {},
   "outputs": [],
   "source": [
    "# Install required packages and download data\n",
    "%pip install -r requirements.txt\n",
    "!sh data_get.sh\n"
   ]
  },
  {
   "cell_type": "code",
   "execution_count": null,
   "metadata": {},
   "outputs": [],
   "source": [
    "\n",
    "!sh data_wrangle.sh"
   ]
  },
  {
   "cell_type": "code",
   "execution_count": null,
   "metadata": {},
   "outputs": [],
   "source": [
    "import duckdb\n",
    "import pandas as pd\n",
    "from collections import defaultdict\n",
    "from os import listdir #, getenv\n",
    "# from dotenv import load_dotenv\n",
    "# load_dotenv()\n",
    "\n",
    "%load_ext sql\n",
    "%config SqlMagic.autopandas = True\n",
    "%config SqlMagic.feedback = False\n",
    "%config SqlMagic.displaycon = False\n",
    "\n",
    "# %sql duckdb:///cerulean.db\n",
    "%sql duckdb:///:memory:"
   ]
  },
  {
   "cell_type": "code",
   "execution_count": null,
   "metadata": {},
   "outputs": [],
   "source": [
    "# Define a function to create a schema for each data source\n",
    "# and a table for each file (*.csv.gz) in its directory\n",
    "\n",
    "# Specify NULLSTR for problematic tables\n",
    "options = defaultdict(lambda: '')\n",
    "options['mimiciv_hosp.discharge'] = ', NULLSTR=\"___\"'\n",
    "options['mimiciv_hosp.emar_detail'] = ', NULLSTR=\"___\"'\n",
    "options['mimiciv_hosp.pharmacy.csv.gz'] = ', NULLSTR=\"___\"'\n",
    "\n",
    "def create_schema_and_tables(schema, path):\n",
    "    files = listdir(path)\n",
    "    %sql CREATE SCHEMA IF NOT EXISTS {schema};\n",
    "    for file in files:\n",
    "        if file.endswith('.csv.gz'):\n",
    "            table = file.split('.')[0]\n",
    "            param = 'AUTO_DETECT=TRUE' + options[schema + '.' + table]\n",
    "            %sql DROP TABLE IF EXISTS {schema}.{table};\n",
    "            %sql CREATE TABLE {schema}.{table} AS SELECT * FROM read_csv('{path}{file}', {param} );\n",
    "    %sql result << SELECT table_schema, table_name FROM information_schema.tables WHERE table_schema = '{schema}';\n",
    "    return result"
   ]
  },
  {
   "cell_type": "code",
   "execution_count": null,
   "metadata": {},
   "outputs": [],
   "source": [
    "# Import MIMIC-IV Hospital\n",
    "schema = 'mimiciv_hosp'\n",
    "path = 'physionet.org/files/mimiciv/2.2/hosp/'\n",
    "\n",
    "create_schema_and_tables(schema, path)"
   ]
  },
  {
   "cell_type": "code",
   "execution_count": null,
   "metadata": {},
   "outputs": [],
   "source": [
    "# Import MIMIC-IV ICU\n",
    "schema = 'mimiciv_icu'\n",
    "path = 'physionet.org/files/mimiciv/2.2/icu/'\n",
    "\n",
    "create_schema_and_tables(schema, path)"
   ]
  },
  {
   "cell_type": "code",
   "execution_count": null,
   "metadata": {},
   "outputs": [],
   "source": [
    "# Import MIMIC-IV Notes\n",
    "schema = 'mimiciv_note'\n",
    "path = 'physionet.org/files/mimic-iv-note/2.2/note/'\n",
    "\n",
    "create_schema_and_tables(schema, path)"
   ]
  }
 ],
 "metadata": {
  "kernelspec": {
   "display_name": "cerulean-notebook",
   "language": "python",
   "name": "python3"
  },
  "language_info": {
   "codemirror_mode": {
    "name": "ipython",
    "version": 3
   },
   "file_extension": ".py",
   "mimetype": "text/x-python",
   "name": "python",
   "nbconvert_exporter": "python",
   "pygments_lexer": "ipython3",
   "version": "3.10.9"
  },
  "orig_nbformat": 4,
  "vscode": {
   "interpreter": {
    "hash": "311c0f6d3b3d412c56fdf6c19b0e3629226c42cb0e910efa2496f61183626f29"
   }
  }
 },
 "nbformat": 4,
 "nbformat_minor": 2
}
