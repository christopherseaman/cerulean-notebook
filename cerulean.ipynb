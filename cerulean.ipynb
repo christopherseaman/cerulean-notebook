{
 "cells": [
  {
   "cell_type": "code",
   "execution_count": null,
   "metadata": {},
   "outputs": [],
   "source": [
    "# Install required packages and download data\n",
    "%pip install -q -r requirements.txt\n",
    "!sh data_get.sh\n",
    "\n",
    "# NOTE: Changes some values meaningfully\n",
    "# !sh data_wrangle.sh"
   ]
  },
  {
   "cell_type": "code",
   "execution_count": null,
   "metadata": {},
   "outputs": [],
   "source": [
    "import duckdb\n",
    "import pandas as pd\n",
    "from collections import defaultdict\n",
    "from os import listdir \n",
    "\n",
    "%load_ext sql\n",
    "%config SqlMagic.autopandas = True\n",
    "%config SqlMagic.feedback = False\n",
    "%config SqlMagic.displaycon = False\n",
    "\n",
    "# trying in-memory database, swap for a file-based db if needed\n",
    "# %sql duckdb:///cerulean.db\n",
    "%sql duckdb:///:memory:"
   ]
  },
  {
   "cell_type": "code",
   "execution_count": null,
   "metadata": {},
   "outputs": [],
   "source": [
    "# Load the column data_types\n",
    "raw_col = pd.read_csv('columns.csv', delimiter='\\t')\n",
    "raw_col['param'] = '\\'' + raw_col['column'] + '\\': \\'' + raw_col['data_type']  + '\\''\n",
    "\n",
    "# Aggregate the column data_types for each schema.table\n",
    "df_col = raw_col.groupby(['schema', 'table'])['param'].aggregate(\", \".join).reset_index()\n",
    "df_col['param'] = 'columns={' + df_col['param'] + '}'\n",
    "\n",
    "# Pass into a dict, keys are (schema, table) tuples\n",
    "col = df_col.set_index(['schema', 'table']).to_dict()['param']\n",
    "\n",
    "# Example calls: set `columns` if known, otherwise use AUTO_DETECT\n",
    "# print(col.get(('mimiciv_hosp', 'pharmacy'), 'AUTO_DETECT=TRUE'))\n",
    "# print(col.get(('bad_schema', 'missing'), 'AUTO_DETECT=TRUE'))\n"
   ]
  },
  {
   "cell_type": "code",
   "execution_count": null,
   "metadata": {},
   "outputs": [],
   "source": [
    "# Specify NULLSTR for problematic tables\n",
    "nullstr = {}\n",
    "# nullstr[('mimiciv_hosp', 'discharge')] = ', NULLSTR=\"___\"'\n",
    "# nullstr['mimiciv_hosp.emar_detail'] = ', NULLSTR=\"___\"'\n",
    "# nullstr['mimiciv_hosp.pharmacy'] = ', NULLSTR=\"___\"'"
   ]
  },
  {
   "cell_type": "code",
   "execution_count": null,
   "metadata": {},
   "outputs": [],
   "source": [
    "# Define a function to create a schema for each data source\n",
    "# and a table for each file (*.csv.gz) in its directory\n",
    "\n",
    "def create_schema_and_tables(schema, path):\n",
    "    files = listdir(path)\n",
    "    %sql CREATE SCHEMA IF NOT EXISTS {schema};\n",
    "    for file in files:\n",
    "        if file.endswith('.csv.gz'):\n",
    "            table = file.split('.')[0]\n",
    "            param = col.get((schema, table), 'AUTO_DETECT=TRUE') \\\n",
    "                  + nullstr.get((schema, table), '')\n",
    "            # print(param)\n",
    "            %sql DROP TABLE IF EXISTS {schema}.{table};\n",
    "            %sql CREATE TABLE {schema}.{table} AS SELECT * FROM read_csv('{path}{file}', header=True, {param} );\n",
    "    %sql result << SELECT table_schema, table_name FROM information_schema.tables WHERE table_schema = '{schema}';\n",
    "    return result"
   ]
  },
  {
   "cell_type": "code",
   "execution_count": null,
   "metadata": {},
   "outputs": [],
   "source": [
    "# Import MIMIC-IV Hospital\n",
    "schema = 'mimiciv_hosp'\n",
    "path = 'physionet.org/files/mimiciv/2.2/hosp/'\n",
    "\n",
    "create_schema_and_tables(schema, path)"
   ]
  },
  {
   "cell_type": "code",
   "execution_count": null,
   "metadata": {},
   "outputs": [],
   "source": [
    "# Import MIMIC-IV ICU\n",
    "schema = 'mimiciv_icu'\n",
    "path = 'physionet.org/files/mimiciv/2.2/icu/'\n",
    "\n",
    "create_schema_and_tables(schema, path)"
   ]
  },
  {
   "cell_type": "code",
   "execution_count": null,
   "metadata": {},
   "outputs": [],
   "source": [
    "# Import MIMIC-IV Notes\n",
    "schema = 'mimiciv_note'\n",
    "path = 'physionet.org/files/mimic-iv-note/2.2/note/'\n",
    "\n",
    "create_schema_and_tables(schema, path)"
   ]
  },
  {
   "cell_type": "code",
   "execution_count": null,
   "metadata": {},
   "outputs": [],
   "source": [
    "# # One-off fix for bad file\n",
    "# schema = 'mimiciv_hosp'\n",
    "# path = 'bad_files/'\n",
    "# file = 'pharmacy.csv.gz'\n",
    "# table = file.split('.')[0]\n",
    "# param = col.get((schema, table), 'AUTO_DETECT=TRUE') + nullstr.get((schema, table), '')\n",
    "\n",
    "# # %sql DROP TABLE IF EXISTS {schema}.{table};\n",
    "# # %sql CREATE TABLE {schema}.{table} AS SELECT * FROM  read_csv('{path}{file}', header=True, {param} );\n",
    "\n",
    "# create_schema_and_tables(schema, path)"
   ]
  },
  {
   "cell_type": "code",
   "execution_count": null,
   "metadata": {},
   "outputs": [],
   "source": [
    "# Extract the column names and data_types for each table\n",
    "# (from a manual inspection and load of the data)\n",
    "# %sql columns << SELECT table_schema, table_name, column_name, data_type FROM information_schema.columns;\n",
    "\n",
    "# columns.to_clipboard(index=False)\n",
    "# print(columns)"
   ]
  },
  {
   "cell_type": "code",
   "execution_count": null,
   "metadata": {},
   "outputs": [],
   "source": []
  },
  {
   "cell_type": "code",
   "execution_count": null,
   "metadata": {},
   "outputs": [],
   "source": []
  }
 ],
 "metadata": {
  "kernelspec": {
   "display_name": "cerulean-notebook",
   "language": "python",
   "name": "python3"
  },
  "language_info": {
   "codemirror_mode": {
    "name": "ipython",
    "version": 3
   },
   "file_extension": ".py",
   "mimetype": "text/x-python",
   "name": "python",
   "nbconvert_exporter": "python",
   "pygments_lexer": "ipython3",
   "version": "3.10.9 (main, Dec 15 2022, 18:25:35) [Clang 14.0.0 (clang-1400.0.29.202)]"
  },
  "orig_nbformat": 4,
  "vscode": {
   "interpreter": {
    "hash": "311c0f6d3b3d412c56fdf6c19b0e3629226c42cb0e910efa2496f61183626f29"
   }
  }
 },
 "nbformat": 4,
 "nbformat_minor": 2
}
