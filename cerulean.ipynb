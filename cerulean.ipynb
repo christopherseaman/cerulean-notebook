{
 "cells": [
  {
   "cell_type": "code",
   "execution_count": null,
   "metadata": {},
   "outputs": [],
   "source": [
    "import duckdb\n",
    "\n",
    "con = duckdb.connect('cerulean.db', read_only=False)\n"
   ]
  },
  {
   "cell_type": "code",
   "execution_count": null,
   "metadata": {},
   "outputs": [],
   "source": [
    "con.execute(\"CREATE TABLE dmt AS SELECT * FROM read_csv_auto('../syntegra-data/dmt/id.text');\")\n",
    "con.execute(\"select * from dmt limit 10;\")\n",
    "print(con.fetchall())"
   ]
  },
  {
   "cell_type": "code",
   "execution_count": null,
   "metadata": {},
   "outputs": [],
   "source": [
    "\n",
    "con.execute(\"CREATE TABLE discharge AS SELECT * FROM read_csv_auto('../syntegra-data/m4-notes/note/discharge.csv.gz');\")"
   ]
  },
  {
   "cell_type": "code",
   "execution_count": null,
   "metadata": {},
   "outputs": [],
   "source": [
    "\n",
    "con.execute(\"select * from discharge using sample 10;\")\n",
    "print(con.fetchall())"
   ]
  },
  {
   "cell_type": "code",
   "execution_count": null,
   "metadata": {},
   "outputs": [],
   "source": []
  }
 ],
 "metadata": {
  "kernelspec": {
   "display_name": "cerulean-notebook",
   "language": "python",
   "name": "python3"
  },
  "language_info": {
   "codemirror_mode": {
    "name": "ipython",
    "version": 3
   },
   "file_extension": ".py",
   "mimetype": "text/x-python",
   "name": "python",
   "nbconvert_exporter": "python",
   "pygments_lexer": "ipython3",
   "version": "3.10.9"
  },
  "orig_nbformat": 4,
  "vscode": {
   "interpreter": {
    "hash": "311c0f6d3b3d412c56fdf6c19b0e3629226c42cb0e910efa2496f61183626f29"
   }
  }
 },
 "nbformat": 4,
 "nbformat_minor": 2
}
