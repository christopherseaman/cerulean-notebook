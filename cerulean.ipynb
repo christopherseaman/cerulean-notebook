{
 "cells": [
  {
   "cell_type": "code",
   "execution_count": null,
   "metadata": {},
   "outputs": [],
   "source": [
    "# Install required packages and download data\n",
    "%pip install -r requirements.txt\n",
    "!sh get_data.sh\n"
   ]
  },
  {
   "cell_type": "code",
   "execution_count": null,
   "metadata": {},
   "outputs": [],
   "source": [
    "\n",
    "!sh clean_data.sh"
   ]
  },
  {
   "cell_type": "code",
   "execution_count": null,
   "metadata": {},
   "outputs": [],
   "source": [
    "import duckdb\n",
    "import pandas as pd\n",
    "from os import listdir #, getenv\n",
    "# from dotenv import load_dotenv\n",
    "# load_dotenv()\n",
    "\n",
    "%load_ext sql\n",
    "%config SqlMagic.autopandas = True\n",
    "%config SqlMagic.feedback = False\n",
    "%config SqlMagic.displaycon = False\n",
    "\n",
    "%sql duckdb:///cerulean.db"
   ]
  },
  {
   "cell_type": "code",
   "execution_count": null,
   "metadata": {},
   "outputs": [],
   "source": [
    "# Define a function to create a schema for each data source\n",
    "# and a table for each file (*.csv.gz) in its directory\n",
    "\n",
    "def create_schema_and_tables(schema, path):\n",
    "    files = listdir(path)\n",
    "    %sql CREATE SCHEMA IF NOT EXISTS {schema};\n",
    "    for file in files:\n",
    "        if file.endswith('.csv.gz'):\n",
    "            table = file.split('.')[0]\n",
    "            %sql DROP TABLE IF EXISTS {schema}.{table};\n",
    "            %sql CREATE TABLE {schema}.{table} AS SELECT * FROM read_csv('{path}{file}', AUTO_DETECT=TRUE);\n",
    "            # , NULLSTR='-*');\n",
    "    %sql result << SELECT table_schema, table_name FROM information_schema.tables WHERE table_schema = '{schema}';\n",
    "    return result"
   ]
  },
  {
   "cell_type": "code",
   "execution_count": null,
   "metadata": {},
   "outputs": [],
   "source": [
    "schema = 'bad_files'\n",
    "path = 'bad_files/'\n",
    "\n",
    "def create_schema_and_tables(schema, path):\n",
    "    files = listdir(path)\n",
    "    %sql CREATE SCHEMA IF NOT EXISTS {schema};\n",
    "    for file in files:\n",
    "        if file.endswith('.csv.gz'):\n",
    "            table = file.split('.')[0]\n",
    "            %sql DROP TABLE IF EXISTS {schema}.{table};\n",
    "            %sql CREATE TABLE {schema}.{table} AS SELECT * FROM read_csv('{path}{file}', AUTO_DETECT=TRUE);\n",
    "            # , NULLSTR='-*');\n",
    "    %sql result << SELECT table_schema, table_name FROM information_schema.tables WHERE table_schema = '{schema}';\n",
    "    return result\n",
    "\n",
    "create_schema_and_tables(schema, path)\n",
    "\n",
    "# # timestamp field value out of range: \"\" in column \"stoptime\"\n",
    "# 'physionet.org/files/mimiciv/2.2/hosp/prescriptions.csv.gz',\n",
    "# # timestamp field value out of range: \"\" in column \"verifiedtime\"\n",
    "# 'physionet.org/files/mimiciv/2.2/hosp/pharmacy.csv.gz',\n",
    "# # timestamp field value out of range: \"\" in column \"scheduletime\"\n",
    "# 'physionet.org/files/mimiciv/2.2/hosp/emar.csv.gz',\n",
    "# # timestamp field value out of range: \"\" in column \"storetime\"\n",
    "# 'physionet.org/files/mimic-iv-note/2.2/note/discharge.csv.gz'"
   ]
  },
  {
   "cell_type": "code",
   "execution_count": null,
   "metadata": {},
   "outputs": [],
   "source": [
    "# Import MIMIC-IV Hospital\n",
    "schema = 'mimiciv_hosp'\n",
    "path = 'physionet.org/files/mimiciv/2.2/hosp/'\n",
    "\n",
    "create_schema_and_tables(schema, path)"
   ]
  },
  {
   "cell_type": "code",
   "execution_count": null,
   "metadata": {},
   "outputs": [],
   "source": [
    "# Import MIMIC-IV ICU\n",
    "schema = 'mimiciv_icu'\n",
    "path = 'physionet.org/files/mimiciv/2.2/icu/'\n",
    "\n",
    "create_schema_and_tables(schema, path)"
   ]
  },
  {
   "cell_type": "code",
   "execution_count": null,
   "metadata": {},
   "outputs": [],
   "source": [
    "# Import MIMIC-IV Notes\n",
    "schema = 'mimiciv_note'\n",
    "path = 'physionet.org/files/mimic-iv-note/2.2/note/'\n",
    "\n",
    "create_schema_and_tables(schema, path)"
   ]
  },
  {
   "cell_type": "code",
   "execution_count": null,
   "metadata": {},
   "outputs": [],
   "source": [
    "# Ad-hoc queries\n",
    "\n",
    "# %sql df << SELECT * FROM discharge USING SAMPLE 5\n",
    "# (df['note_id'] + df['text']).to_csv('out/discharge_sample05.csv', index=False)\n",
    "\n",
    "# %sql df << SELECT * FROM radiology USING SAMPLE 5\n",
    "# (df['note_id'] + df['text']).to_csv('out/radiology_sample05.csv', index=False)\n",
    "\n",
    "# df[[\"text\"][0]].to_clipboard()\n",
    "\n",
    "# %sql df << \n",
    "# SELECT d.subject_id, r.subject_id \\\n",
    "#     FROM (SELECT subject_id FROM discharge GROUP BY subject_id) d \\\n",
    "#     LEFT JOIN (SELECT subject_id FROM radiology GROUP BY subject_id) r \\\n",
    "#     ON d.subject_id = r.subject_id"
   ]
  }
 ],
 "metadata": {
  "kernelspec": {
   "display_name": "cerulean-notebook",
   "language": "python",
   "name": "python3"
  },
  "language_info": {
   "codemirror_mode": {
    "name": "ipython",
    "version": 3
   },
   "file_extension": ".py",
   "mimetype": "text/x-python",
   "name": "python",
   "nbconvert_exporter": "python",
   "pygments_lexer": "ipython3",
   "version": "3.10.9"
  },
  "orig_nbformat": 4,
  "vscode": {
   "interpreter": {
    "hash": "311c0f6d3b3d412c56fdf6c19b0e3629226c42cb0e910efa2496f61183626f29"
   }
  }
 },
 "nbformat": 4,
 "nbformat_minor": 2
}
