{
 "cells": [
  {
   "cell_type": "code",
   "execution_count": null,
   "metadata": {},
   "outputs": [],
   "source": [
    "import duckdb\n",
    "import pandas as pd\n",
    "\n",
    "%load_ext sql\n",
    "%config SqlMagic.autopandas = True\n",
    "%config SqlMagic.feedback = False\n",
    "%config SqlMagic.displaycon = False\n",
    "\n",
    "%sql duckdb:///cerulean.db"
   ]
  },
  {
   "cell_type": "code",
   "execution_count": null,
   "metadata": {},
   "outputs": [],
   "source": [
    "# # Download the data\n",
    "\n",
    "# # [Deidentified Medical Text](https://physionet.org/content/deidentifiedmedicaltext/1.0/)\n",
    "# !wget -r -N -c -np --user christopherseaman --ask-password https://physionet.org/files/deidentifiedmedicaltext/1.0/\n",
    "\n",
    "# # [Phenotype Annotations for Patient Notes in the MIMIC-III Database](https://physionet.org/content/phenotype-annotations-mimic/1.20.03/)\n",
    "# !wget -r -N -c -np --user christopherseaman --ask-password https://physionet.org/files/phenotype-annotations-mimic/1.20.03/\n",
    "\n",
    "# # [MIMIC-IV](https://physionet.org/content/mimiciv/2.2/)\n",
    "# !wget -r -N -c -np --user christopherseaman --ask-password https://physionet.org/files/mimiciv/2.2/\n",
    "\n",
    "# # [MIMIC-IV-Note: Deidentified free-text clinical notes](https://physionet.org/content/mimic-iv-note/2.2/)\n",
    "# !wget -r -N -c -np --user christopherseaman --ask-password https://physionet.org/files/mimic-iv-note/2.2/\n"
   ]
  },
  {
   "cell_type": "code",
   "execution_count": null,
   "metadata": {},
   "outputs": [],
   "source": [
    "# %%sql\n",
    "# CREATE TABLE discharge AS\n",
    "#     SELECT *\n",
    "#     FROM read_csv_auto('../syntegra-data/m4-notes/note/discharge.csv.gz')"
   ]
  },
  {
   "cell_type": "code",
   "execution_count": null,
   "metadata": {},
   "outputs": [],
   "source": [
    "# %%sql\n",
    "# CREATE TABLE radiology AS\n",
    "#     SELECT *\n",
    "#     FROM read_csv_auto('../syntegra-data/m4-notes/note/radiology.csv.gz')"
   ]
  },
  {
   "cell_type": "code",
   "execution_count": null,
   "metadata": {},
   "outputs": [],
   "source": [
    "%sql df << SELECT * FROM discharge USING SAMPLE 5\n",
    "(df['note_id'] + df['text']).to_csv('output/discharge_sample05.csv', index=False)\n",
    "df"
   ]
  },
  {
   "cell_type": "code",
   "execution_count": null,
   "metadata": {},
   "outputs": [],
   "source": [
    "%sql df << SELECT * FROM radiology USING SAMPLE 5\n",
    "(df['note_id'] + df['text']).to_csv('output/radiology_sample05.csv', index=False)\n",
    "df"
   ]
  },
  {
   "cell_type": "code",
   "execution_count": null,
   "metadata": {},
   "outputs": [],
   "source": []
  },
  {
   "cell_type": "code",
   "execution_count": null,
   "metadata": {},
   "outputs": [],
   "source": []
  }
 ],
 "metadata": {
  "kernelspec": {
   "display_name": "cerulean-notebook",
   "language": "python",
   "name": "python3"
  },
  "language_info": {
   "codemirror_mode": {
    "name": "ipython",
    "version": 3
   },
   "file_extension": ".py",
   "mimetype": "text/x-python",
   "name": "python",
   "nbconvert_exporter": "python",
   "pygments_lexer": "ipython3",
   "version": "3.10.9"
  },
  "orig_nbformat": 4,
  "vscode": {
   "interpreter": {
    "hash": "311c0f6d3b3d412c56fdf6c19b0e3629226c42cb0e910efa2496f61183626f29"
   }
  }
 },
 "nbformat": 4,
 "nbformat_minor": 2
}
